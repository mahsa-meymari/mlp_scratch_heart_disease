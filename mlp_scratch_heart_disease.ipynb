{
  "nbformat": 4,
  "nbformat_minor": 0,
  "metadata": {
    "colab": {
      "name": "mlp_scratch_heart_disease.ipynb",
      "provenance": [],
      "collapsed_sections": []
    },
    "kernelspec": {
      "name": "python3",
      "display_name": "Python 3"
    },
    "language_info": {
      "name": "python"
    }
  },
  "cells": [
    {
      "cell_type": "markdown",
      "metadata": {
        "id": "rtet_069H-5F"
      },
      "source": [
        "Import some libraries"
      ]
    },
    {
      "cell_type": "code",
      "metadata": {
        "id": "zTSVJoqmFsMZ"
      },
      "source": [
        "import numpy as np\n",
        "import pandas as pd\n",
        "import matplotlib.pyplot as plt"
      ],
      "execution_count": 1292,
      "outputs": []
    },
    {
      "cell_type": "markdown",
      "metadata": {
        "id": "5NJkvm1QHx9j"
      },
      "source": [
        "Read and prepare data"
      ]
    },
    {
      "cell_type": "code",
      "metadata": {
        "id": "nLyV2gZLHJ8u"
      },
      "source": [
        "df = pd.read_csv('heart.csv')\n",
        "#split the data to train set and test set\n",
        "train=df.sample(frac=0.8)\n",
        "test=df.drop(train.index)\n",
        "# specifying the input and output of each set\n",
        "train_y = np.array(train.target)\n",
        "train_y = train_y.reshape(train_y.shape[0],1)\n",
        "train_x = np.array(train.drop(['target'], axis=1)).T\n",
        "test_y = np.array(test.target)\n",
        "test_y = test_y.reshape(test_y.shape[0],1)\n",
        "test_x = np.array(test.drop(['target'], axis=1)).T"
      ],
      "execution_count": 1293,
      "outputs": []
    },
    {
      "cell_type": "markdown",
      "metadata": {
        "id": "Behw2Qu9OTb1"
      },
      "source": [
        "Finding number of train and test examples and the dimesion of input"
      ]
    },
    {
      "cell_type": "code",
      "metadata": {
        "colab": {
          "base_uri": "https://localhost:8080/"
        },
        "id": "YL5etkIGHxZn",
        "outputId": "009b6828-8492-42a1-af69-64622d7727f6"
      },
      "source": [
        "inp_dim, num_train_data= train_x.shape\n",
        "num_test_data = test_x.shape[1]\n",
        "print(\n",
        "  ' num of training data(m): {}\\n num of test data: {}\\n dimension of input(n): {}'\n",
        "  .format(num_train_data,num_test_data,inp_dim)\n",
        "  )"
      ],
      "execution_count": 1294,
      "outputs": [
        {
          "output_type": "stream",
          "text": [
            " num of training data(m): 242\n",
            " num of test data: 61\n",
            " dimension of input(n): 13\n"
          ],
          "name": "stdout"
        }
      ]
    },
    {
      "cell_type": "code",
      "metadata": {
        "id": "PARyM6XWOMim"
      },
      "source": [
        "class Layer:\n",
        "  def __init__(self,input_dim, num_neurons, activation, name):\n",
        "    if activation=='relu':\n",
        "      self.activation = self.__relu\n",
        "      self.activation_deriv = self.__relu_deriv\n",
        "    if activation=='sigmoid':\n",
        "      self.activation = self.__sigmoid\n",
        "      self.activation_deriv = self.__sigmoid_deriv\n",
        "\n",
        "    # initialize weights randomly to prevent symmetry\n",
        "    # initialize to small number so the result (because of sigmoid) don't be all one\n",
        "    self.weights = np.random.rand(num_neurons,input_dim)*0.001\n",
        "    self.bias = np.random.rand(num_neurons,1)*0.001\n",
        "    self.name = name\n",
        "  \n",
        "  def __relu(x):\n",
        "    if x<=0:\n",
        "      return 0\n",
        "    else:\n",
        "      return x\n",
        "  \n",
        "  def __sigmoid(self, z):\n",
        "    return 1/(1+np.exp(-1*z))\n",
        "  \n",
        "  def __sigmoid_deriv(self, z):\n",
        "    return self.__sigmoid(z)*(1-self.__sigmoid(z))\n",
        "  \n",
        "  def __relu(self,z):\n",
        "    return np.maximum(z, 0)\n",
        "  \n",
        "  def __relu_deriv(self,z):\n",
        "    z[z>=0] = 1\n",
        "    z[z<0] = 0\n",
        "    return z\n",
        "  "
      ],
      "execution_count": 1295,
      "outputs": []
    },
    {
      "cell_type": "code",
      "metadata": {
        "id": "o-GXLHFqQbmq"
      },
      "source": [
        "class MlpModel:\n",
        "  def __init__(self):\n",
        "    self.layers = []\n",
        "    self.z = []\n",
        "    self.a = []\n",
        "    self.learning_rate = 0.1\n",
        "\n",
        "  def add_layer(self, layer):\n",
        "    self.layers.append(layer)\n",
        "\n",
        "  def __forward_propagation(self, x):\n",
        "    a = x\n",
        "    self.a.append(a)\n",
        "    for layer in self.layers:\n",
        "      z = np.matmul(layer.weights,a)+ layer.bias\n",
        "      self.z.append(z)\n",
        "      a = layer.activation(z)\n",
        "      self.a.append(a)\n",
        "    return a\n",
        "\n",
        "  def __cost_function(self, y_hat, y):\n",
        "    cost = -1 * (np.dot(np.log(y_hat),y) + np.dot(np.log(1-y_hat),1-y))/ y.shape[0]\n",
        "    return cost[0][0]\n",
        "\n",
        "  def __cost_function_deriv(self,y_hat,y):\n",
        "    return ( ((1-y)/(1-y_hat.T)) - (y/y_hat.T) ) / num_train_data\n",
        "\n",
        "  def __back_propagation(self, y_hat, y):\n",
        "    # dz1 = (dj/da1) * (da1/dz1)\n",
        "    dz1 = np.multiply(self.layers[1].activation_deriv(self.z[1]).T,\n",
        "                    self.__cost_function_deriv(y_hat, y)\n",
        "                    )\n",
        "    # dw1 = (dj/da1) * (da1/dz1) * (dz1/dw)\n",
        "    dw1 = np.matmul(self.a[1],dz1)\n",
        "    # update output layer weights\n",
        "    self.layers[1].weights = self.layers[1].weights - self.learning_rate*dw1.T \n",
        "    # dw1 = (dj/da1) * (da1/dz1) * (dz1/db)\n",
        "    db1 = np.sum(dz1, axis=0, keepdims=True)\n",
        "    # update output layer bias\n",
        "    self.layers[1].bias = self.layers[1].bias - self.learning_rate*db1\n",
        "    # dz0 = (dj/da1) * (da1/dz1) * (dz1/da0) * (da0/dz0)\n",
        "    dz0 = np.multiply(\n",
        "        np.matmul(dz1,self.layers[1].weights), \n",
        "        self.layers[0].activation_deriv(self.z[0]).T)\n",
        "    # dw0 = (dj/da1) * (da1/dz1) * (dz1/da0) * (da0/dz0) * (dz0/dw0)\n",
        "    dw0 = np.matmul(self.a[0], dz0)\n",
        "    # update hidden layer weights\n",
        "    self.layers[0].weights = self.layers[0].weights - self.learning_rate*dw0.T \n",
        "    # db0 = (dj/da1) * (da1/dz1) * (dz1/da0) * (da0/dz0) * (dz0/db0)\n",
        "    db0 = np.sum(dz0,axis=0,keepdims=True)\n",
        "    # update hidden layer bias\n",
        "    self.layers[1].bias = self.layers[1].bias - self.learning_rate*db1.T\n",
        "\n",
        "  def fit(self, x, y, num_epoch,x_valid, y_valid):\n",
        "    costs = []\n",
        "    validation_costs = []\n",
        "    accs = []\n",
        "    validation_accs = []\n",
        "    for i in range(num_epoch):\n",
        "      \n",
        "      y_hat = self.__forward_propagation(x)\n",
        "      self.__back_propagation(y_hat, y)\n",
        "      train_cost = self.__cost_function(y_hat, y)\n",
        "      train_acc = self.__calc_acc(y_hat, y)\n",
        "      costs.append(train_cost)\n",
        "      accs.append(train_acc)\n",
        "      \n",
        "      val_cost, val_acc = self.evaluate(x_valid,y_valid)\n",
        "      validation_costs.append(val_cost)\n",
        "      validation_accs.append(val_acc)\n",
        "\n",
        "      print('epoch:{} trian_loss:{} train_acc:{} val_loss:{} val_acc:{}'.format(\n",
        "          i, round(train_cost,2), train_acc, round(val_cost,2), round(val_acc,2)\n",
        "      ))\n",
        "    return costs, validation_costs, accs, validation_accs\n",
        "\n",
        "  def evaluate(self, x, y):\n",
        "    y_hat = self.__forward_propagation(x)\n",
        "    cost = self.__cost_function(y_hat, y)\n",
        "    acc = self.__calc_acc(y_hat,y)\n",
        "    return cost, acc\n",
        "  \n",
        "  def __calc_acc(self,y_hat, y):\n",
        "    res = y_hat.copy()\n",
        "    res[y_hat>=0.5] = 1\n",
        "    res[y_hat<0.5] = 0\n",
        "    res[res==y.T] = 1\n",
        "    res[res!=y.T] = 0\n",
        "    acc = 1 - (np.count_nonzero(res)/res.shape[1])\n",
        "    return acc"
      ],
      "execution_count": 1296,
      "outputs": []
    },
    {
      "cell_type": "code",
      "metadata": {
        "colab": {
          "base_uri": "https://localhost:8080/"
        },
        "id": "WNe68-5iPKnO",
        "outputId": "e8ec8dba-989d-400f-c191-224426170349"
      },
      "source": [
        "model = MlpModel()\n",
        "\n",
        "hidden_layer = Layer(inp_dim, 8,'relu','hidden')\n",
        "model.add_layer(hidden_layer)\n",
        "\n",
        "output_layer = Layer(8, 1, 'sigmoid','output')\n",
        "model.add_layer(output_layer)\n",
        "\n",
        "costs, val_costs, accs, val_accs = model.fit(train_x,train_y,100,test_x, test_y)"
      ],
      "execution_count": 1297,
      "outputs": [
        {
          "output_type": "stream",
          "text": [
            "epoch:0 trian_loss:0.69 train_acc:0.4545454545454546 val_loss:0.69 val_acc:0.46\n",
            "epoch:1 trian_loss:0.69 train_acc:0.4545454545454546 val_loss:0.69 val_acc:0.46\n",
            "epoch:2 trian_loss:0.69 train_acc:0.4545454545454546 val_loss:0.69 val_acc:0.46\n",
            "epoch:3 trian_loss:0.69 train_acc:0.4545454545454546 val_loss:0.69 val_acc:0.46\n",
            "epoch:4 trian_loss:0.69 train_acc:0.4545454545454546 val_loss:0.69 val_acc:0.46\n",
            "epoch:5 trian_loss:0.69 train_acc:0.4545454545454546 val_loss:0.69 val_acc:0.46\n",
            "epoch:6 trian_loss:0.69 train_acc:0.4545454545454546 val_loss:0.69 val_acc:0.46\n",
            "epoch:7 trian_loss:0.69 train_acc:0.4545454545454546 val_loss:0.69 val_acc:0.46\n",
            "epoch:8 trian_loss:0.69 train_acc:0.4545454545454546 val_loss:0.68 val_acc:0.46\n",
            "epoch:9 trian_loss:0.68 train_acc:0.4545454545454546 val_loss:0.68 val_acc:0.46\n",
            "epoch:10 trian_loss:0.68 train_acc:0.4545454545454546 val_loss:0.68 val_acc:0.46\n",
            "epoch:11 trian_loss:0.68 train_acc:0.4545454545454546 val_loss:0.68 val_acc:0.46\n",
            "epoch:12 trian_loss:0.68 train_acc:0.4545454545454546 val_loss:0.68 val_acc:0.46\n",
            "epoch:13 trian_loss:0.68 train_acc:0.4545454545454546 val_loss:0.68 val_acc:0.46\n",
            "epoch:14 trian_loss:0.68 train_acc:0.4545454545454546 val_loss:0.68 val_acc:0.46\n",
            "epoch:15 trian_loss:0.68 train_acc:0.4545454545454546 val_loss:0.68 val_acc:0.46\n",
            "epoch:16 trian_loss:0.68 train_acc:0.4545454545454546 val_loss:0.68 val_acc:0.46\n",
            "epoch:17 trian_loss:0.68 train_acc:0.4545454545454546 val_loss:0.68 val_acc:0.46\n",
            "epoch:18 trian_loss:0.68 train_acc:0.4545454545454546 val_loss:0.68 val_acc:0.46\n",
            "epoch:19 trian_loss:0.68 train_acc:0.4545454545454546 val_loss:0.68 val_acc:0.46\n",
            "epoch:20 trian_loss:0.68 train_acc:0.4545454545454546 val_loss:0.67 val_acc:0.46\n",
            "epoch:21 trian_loss:0.68 train_acc:0.4545454545454546 val_loss:0.67 val_acc:0.46\n",
            "epoch:22 trian_loss:0.68 train_acc:0.4545454545454546 val_loss:0.67 val_acc:0.46\n",
            "epoch:23 trian_loss:0.67 train_acc:0.4545454545454546 val_loss:0.67 val_acc:0.46\n",
            "epoch:24 trian_loss:0.67 train_acc:0.4545454545454546 val_loss:0.67 val_acc:0.46\n",
            "epoch:25 trian_loss:0.67 train_acc:0.4545454545454546 val_loss:0.67 val_acc:0.46\n",
            "epoch:26 trian_loss:0.67 train_acc:0.4545454545454546 val_loss:0.67 val_acc:0.46\n",
            "epoch:27 trian_loss:0.67 train_acc:0.4545454545454546 val_loss:0.67 val_acc:0.46\n",
            "epoch:28 trian_loss:0.67 train_acc:0.4545454545454546 val_loss:0.67 val_acc:0.46\n",
            "epoch:29 trian_loss:0.67 train_acc:0.4545454545454546 val_loss:0.67 val_acc:0.46\n",
            "epoch:30 trian_loss:0.67 train_acc:0.4545454545454546 val_loss:0.67 val_acc:0.46\n",
            "epoch:31 trian_loss:0.67 train_acc:0.4545454545454546 val_loss:0.67 val_acc:0.46\n",
            "epoch:32 trian_loss:0.67 train_acc:0.4545454545454546 val_loss:0.67 val_acc:0.46\n",
            "epoch:33 trian_loss:0.67 train_acc:0.4545454545454546 val_loss:0.67 val_acc:0.46\n",
            "epoch:34 trian_loss:0.67 train_acc:0.4545454545454546 val_loss:0.66 val_acc:0.46\n",
            "epoch:35 trian_loss:0.67 train_acc:0.4545454545454546 val_loss:0.66 val_acc:0.46\n",
            "epoch:36 trian_loss:0.67 train_acc:0.4545454545454546 val_loss:0.66 val_acc:0.46\n",
            "epoch:37 trian_loss:0.66 train_acc:0.4545454545454546 val_loss:0.66 val_acc:0.46\n",
            "epoch:38 trian_loss:0.66 train_acc:0.4545454545454546 val_loss:0.66 val_acc:0.46\n",
            "epoch:39 trian_loss:0.66 train_acc:0.4545454545454546 val_loss:0.66 val_acc:0.46\n",
            "epoch:40 trian_loss:0.66 train_acc:0.45867768595041325 val_loss:0.66 val_acc:0.46\n",
            "epoch:41 trian_loss:0.66 train_acc:0.45867768595041325 val_loss:0.66 val_acc:0.46\n",
            "epoch:42 trian_loss:0.66 train_acc:0.47107438016528924 val_loss:0.66 val_acc:0.46\n",
            "epoch:43 trian_loss:0.66 train_acc:0.47107438016528924 val_loss:0.66 val_acc:0.46\n",
            "epoch:44 trian_loss:0.66 train_acc:0.47933884297520657 val_loss:0.66 val_acc:0.49\n",
            "epoch:45 trian_loss:0.66 train_acc:0.48347107438016534 val_loss:0.66 val_acc:0.51\n",
            "epoch:46 trian_loss:0.66 train_acc:0.487603305785124 val_loss:0.66 val_acc:0.51\n",
            "epoch:47 trian_loss:0.66 train_acc:0.487603305785124 val_loss:0.66 val_acc:0.52\n",
            "epoch:48 trian_loss:0.66 train_acc:0.487603305785124 val_loss:0.66 val_acc:0.54\n",
            "epoch:49 trian_loss:0.66 train_acc:0.49173553719008267 val_loss:0.65 val_acc:0.56\n",
            "epoch:50 trian_loss:0.66 train_acc:0.49173553719008267 val_loss:0.65 val_acc:0.57\n",
            "epoch:51 trian_loss:0.66 train_acc:0.49173553719008267 val_loss:0.65 val_acc:0.59\n",
            "epoch:52 trian_loss:0.66 train_acc:0.5 val_loss:0.65 val_acc:0.61\n",
            "epoch:53 trian_loss:0.66 train_acc:0.5 val_loss:0.65 val_acc:0.61\n",
            "epoch:54 trian_loss:0.65 train_acc:0.5 val_loss:0.65 val_acc:0.61\n",
            "epoch:55 trian_loss:0.65 train_acc:0.5082644628099173 val_loss:0.65 val_acc:0.62\n",
            "epoch:56 trian_loss:0.65 train_acc:0.5206611570247934 val_loss:0.65 val_acc:0.64\n",
            "epoch:57 trian_loss:0.65 train_acc:0.524793388429752 val_loss:0.65 val_acc:0.64\n",
            "epoch:58 trian_loss:0.65 train_acc:0.5330578512396694 val_loss:0.65 val_acc:0.66\n",
            "epoch:59 trian_loss:0.65 train_acc:0.5371900826446281 val_loss:0.65 val_acc:0.66\n",
            "epoch:60 trian_loss:0.65 train_acc:0.5371900826446281 val_loss:0.65 val_acc:0.66\n",
            "epoch:61 trian_loss:0.65 train_acc:0.5371900826446281 val_loss:0.64 val_acc:0.66\n",
            "epoch:62 trian_loss:0.65 train_acc:0.5371900826446281 val_loss:0.64 val_acc:0.67\n",
            "epoch:63 trian_loss:0.65 train_acc:0.5371900826446281 val_loss:0.64 val_acc:0.67\n",
            "epoch:64 trian_loss:0.65 train_acc:0.5371900826446281 val_loss:0.64 val_acc:0.67\n",
            "epoch:65 trian_loss:0.65 train_acc:0.5371900826446281 val_loss:0.64 val_acc:0.67\n",
            "epoch:66 trian_loss:0.65 train_acc:0.5413223140495868 val_loss:0.64 val_acc:0.67\n",
            "epoch:67 trian_loss:0.65 train_acc:0.5454545454545454 val_loss:0.64 val_acc:0.67\n",
            "epoch:68 trian_loss:0.65 train_acc:0.5454545454545454 val_loss:0.64 val_acc:0.67\n",
            "epoch:69 trian_loss:0.65 train_acc:0.5454545454545454 val_loss:0.64 val_acc:0.67\n",
            "epoch:70 trian_loss:0.64 train_acc:0.5495867768595042 val_loss:0.64 val_acc:0.69\n",
            "epoch:71 trian_loss:0.64 train_acc:0.5537190082644627 val_loss:0.64 val_acc:0.69\n",
            "epoch:72 trian_loss:0.64 train_acc:0.5537190082644627 val_loss:0.63 val_acc:0.69\n",
            "epoch:73 trian_loss:0.64 train_acc:0.5578512396694215 val_loss:0.63 val_acc:0.69\n",
            "epoch:74 trian_loss:0.64 train_acc:0.5619834710743802 val_loss:0.63 val_acc:0.69\n",
            "epoch:75 trian_loss:0.64 train_acc:0.5619834710743802 val_loss:0.63 val_acc:0.69\n",
            "epoch:76 trian_loss:0.64 train_acc:0.5619834710743802 val_loss:0.63 val_acc:0.69\n",
            "epoch:77 trian_loss:0.64 train_acc:0.5619834710743802 val_loss:0.63 val_acc:0.69\n",
            "epoch:78 trian_loss:0.64 train_acc:0.5661157024793388 val_loss:0.63 val_acc:0.69\n",
            "epoch:79 trian_loss:0.64 train_acc:0.5743801652892562 val_loss:0.63 val_acc:0.69\n",
            "epoch:80 trian_loss:0.64 train_acc:0.578512396694215 val_loss:0.63 val_acc:0.69\n",
            "epoch:81 trian_loss:0.64 train_acc:0.578512396694215 val_loss:0.63 val_acc:0.69\n",
            "epoch:82 trian_loss:0.64 train_acc:0.5826446280991735 val_loss:0.63 val_acc:0.69\n",
            "epoch:83 trian_loss:0.64 train_acc:0.5826446280991735 val_loss:0.63 val_acc:0.69\n",
            "epoch:84 trian_loss:0.64 train_acc:0.5867768595041323 val_loss:0.62 val_acc:0.69\n",
            "epoch:85 trian_loss:0.64 train_acc:0.5867768595041323 val_loss:0.62 val_acc:0.7\n",
            "epoch:86 trian_loss:0.64 train_acc:0.5909090909090908 val_loss:0.62 val_acc:0.7\n",
            "epoch:87 trian_loss:0.63 train_acc:0.5909090909090908 val_loss:0.62 val_acc:0.7\n",
            "epoch:88 trian_loss:0.63 train_acc:0.5950413223140496 val_loss:0.62 val_acc:0.7\n",
            "epoch:89 trian_loss:0.63 train_acc:0.5991735537190083 val_loss:0.62 val_acc:0.7\n",
            "epoch:90 trian_loss:0.63 train_acc:0.5991735537190083 val_loss:0.62 val_acc:0.7\n",
            "epoch:91 trian_loss:0.63 train_acc:0.5991735537190083 val_loss:0.62 val_acc:0.7\n",
            "epoch:92 trian_loss:0.63 train_acc:0.5991735537190083 val_loss:0.62 val_acc:0.7\n",
            "epoch:93 trian_loss:0.63 train_acc:0.6033057851239669 val_loss:0.62 val_acc:0.7\n",
            "epoch:94 trian_loss:0.63 train_acc:0.6074380165289256 val_loss:0.62 val_acc:0.7\n",
            "epoch:95 trian_loss:0.63 train_acc:0.6074380165289256 val_loss:0.62 val_acc:0.7\n",
            "epoch:96 trian_loss:0.63 train_acc:0.6074380165289256 val_loss:0.62 val_acc:0.7\n",
            "epoch:97 trian_loss:0.63 train_acc:0.6074380165289256 val_loss:0.61 val_acc:0.7\n",
            "epoch:98 trian_loss:0.63 train_acc:0.6115702479338843 val_loss:0.61 val_acc:0.7\n",
            "epoch:99 trian_loss:0.63 train_acc:0.6115702479338843 val_loss:0.61 val_acc:0.7\n"
          ],
          "name": "stdout"
        }
      ]
    },
    {
      "cell_type": "code",
      "metadata": {
        "colab": {
          "base_uri": "https://localhost:8080/",
          "height": 513
        },
        "id": "Xi1tlaRFJjiy",
        "outputId": "f89d8318-a701-45e2-ba75-7be4919d740e"
      },
      "source": [
        "plt.plot(costs)\n",
        "plt.plot(validation_costs)\n",
        "plt.legend(['train loss', 'test loss'])\n",
        "plt.show()\n",
        "\n",
        "plt.plot(accs)\n",
        "plt.plot(val_accs)\n",
        "plt.legend(['train acc', 'test acc'])\n",
        "plt.show()"
      ],
      "execution_count": 1298,
      "outputs": [
        {
          "output_type": "display_data",
          "data": {
            "image/png": "[encoded data removed]",
            "text/plain": [
              "<Figure size 432x288 with 1 Axes>"
            ]
          },
          "metadata": {
            "tags": [],
            "needs_background": "light"
          }
        },
        {
          "output_type": "display_data",
          "data": {
            "image/png": "[encoded data removed]",
            "text/plain": [
              "<Figure size 432x288 with 1 Axes>"
            ]
          },
          "metadata": {
            "tags": [],
            "needs_background": "light"
          }
        }
      ]
    }
  ]
}